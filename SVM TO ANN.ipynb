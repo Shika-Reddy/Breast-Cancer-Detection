{
 "cells": [
  {
   "cell_type": "code",
   "execution_count": 15,
   "id": "42e7e508",
   "metadata": {},
   "outputs": [],
   "source": [
    "import pandas as pd\n",
    "df=pd.read_csv('BreastCancer.csv')\n",
    "import numpy as np\n",
    "import warnings"
   ]
  },
  {
   "cell_type": "code",
   "execution_count": 16,
   "id": "c7031afe",
   "metadata": {},
   "outputs": [
    {
     "name": "stdout",
     "output_type": "stream",
     "text": [
      "<class 'pandas.core.frame.DataFrame'>\n",
      "RangeIndex: 699 entries, 0 to 698\n",
      "Data columns (total 11 columns):\n",
      " #   Column              Non-Null Count  Dtype \n",
      "---  ------              --------------  ----- \n",
      " 0   id                  699 non-null    int64 \n",
      " 1   Clump               699 non-null    int64 \n",
      " 2   CellSize            699 non-null    int64 \n",
      " 3   CellShape           699 non-null    int64 \n",
      " 4   MarginalAdhesion    699 non-null    int64 \n",
      " 5   EpithelialCellSize  699 non-null    int64 \n",
      " 6   BareNuc             699 non-null    object\n",
      " 7   BlandChromatin      699 non-null    int64 \n",
      " 8   NormalNucleoli      699 non-null    int64 \n",
      " 9   Mitoses             699 non-null    int64 \n",
      " 10  Class               699 non-null    int64 \n",
      "dtypes: int64(10), object(1)\n",
      "memory usage: 60.2+ KB\n"
     ]
    }
   ],
   "source": [
    "df.info()"
   ]
  },
  {
   "cell_type": "code",
   "execution_count": 17,
   "id": "d26af8af",
   "metadata": {},
   "outputs": [
    {
     "name": "stdout",
     "output_type": "stream",
     "text": [
      "<class 'pandas.core.frame.DataFrame'>\n",
      "RangeIndex: 699 entries, 0 to 698\n",
      "Data columns (total 11 columns):\n",
      " #   Column              Non-Null Count  Dtype \n",
      "---  ------              --------------  ----- \n",
      " 0   id                  699 non-null    int64 \n",
      " 1   Clump               699 non-null    int64 \n",
      " 2   CellSize            699 non-null    int64 \n",
      " 3   CellShape           699 non-null    int64 \n",
      " 4   MarginalAdhesion    699 non-null    int64 \n",
      " 5   EpithelialCellSize  699 non-null    int64 \n",
      " 6   BareNuc             683 non-null    object\n",
      " 7   BlandChromatin      699 non-null    int64 \n",
      " 8   NormalNucleoli      699 non-null    int64 \n",
      " 9   Mitoses             699 non-null    int64 \n",
      " 10  Class               699 non-null    int64 \n",
      "dtypes: int64(10), object(1)\n",
      "memory usage: 60.2+ KB\n"
     ]
    }
   ],
   "source": [
    "df.replace('?', np.nan, inplace=True)\n",
    "df.info()"
   ]
  },
  {
   "cell_type": "code",
   "execution_count": 21,
   "id": "33010e2b",
   "metadata": {},
   "outputs": [
    {
     "name": "stdout",
     "output_type": "stream",
     "text": [
      "<class 'pandas.core.frame.DataFrame'>\n",
      "RangeIndex: 699 entries, 0 to 698\n",
      "Data columns (total 11 columns):\n",
      " #   Column              Non-Null Count  Dtype  \n",
      "---  ------              --------------  -----  \n",
      " 0   id                  699 non-null    float64\n",
      " 1   Clump               699 non-null    float64\n",
      " 2   CellSize            699 non-null    float64\n",
      " 3   CellShape           699 non-null    float64\n",
      " 4   MarginalAdhesion    699 non-null    float64\n",
      " 5   EpithelialCellSize  699 non-null    float64\n",
      " 6   BareNuc             699 non-null    float64\n",
      " 7   BlandChromatin      699 non-null    float64\n",
      " 8   NormalNucleoli      699 non-null    float64\n",
      " 9   Mitoses             699 non-null    float64\n",
      " 10  Class               699 non-null    float64\n",
      "dtypes: float64(11)\n",
      "memory usage: 60.2 KB\n"
     ]
    }
   ],
   "source": [
    "from sklearn.impute import SimpleImputer\n",
    "# Replace missing values with the median of the column\n",
    "imputer = SimpleImputer(strategy='median')\n",
    "df = pd.DataFrame(imputer.fit_transform(df), columns=df.columns)\n",
    "\n",
    "df.info()"
   ]
  },
  {
   "cell_type": "code",
   "execution_count": 22,
   "id": "d386f8e9",
   "metadata": {},
   "outputs": [
    {
     "data": {
      "text/plain": [
       "id                    0\n",
       "Clump                 0\n",
       "CellSize              0\n",
       "CellShape             0\n",
       "MarginalAdhesion      0\n",
       "EpithelialCellSize    0\n",
       "BareNuc               0\n",
       "BlandChromatin        0\n",
       "NormalNucleoli        0\n",
       "Mitoses               0\n",
       "Class                 0\n",
       "dtype: int64"
      ]
     },
     "execution_count": 22,
     "metadata": {},
     "output_type": "execute_result"
    }
   ],
   "source": [
    "df.isnull().sum()"
   ]
  },
  {
   "cell_type": "code",
   "execution_count": 23,
   "id": "70111748",
   "metadata": {},
   "outputs": [
    {
     "name": "stdout",
     "output_type": "stream",
     "text": [
      "WARNING:tensorflow:From C:\\Users\\SRI SHIKA.L\\anaconda3\\lib\\site-packages\\keras\\src\\losses.py:2976: The name tf.losses.sparse_softmax_cross_entropy is deprecated. Please use tf.compat.v1.losses.sparse_softmax_cross_entropy instead.\n",
      "\n"
     ]
    }
   ],
   "source": [
    "from sklearn.model_selection import train_test_split\n",
    "from sklearn.neural_network import MLPClassifier\n",
    "import tensorflow as tf\n",
    "from tensorflow.keras.models import Sequential\n",
    "from tensorflow.keras.layers import Dense\n",
    "from tensorflow.keras.optimizers import Adam\n",
    "\n",
    "from sklearn.svm import SVC\n",
    "from sklearn.metrics import accuracy_score, precision_score, recall_score, f1_score"
   ]
  },
  {
   "cell_type": "code",
   "execution_count": 24,
   "id": "abb1a431",
   "metadata": {},
   "outputs": [],
   "source": [
    "import numpy as np"
   ]
  },
  {
   "cell_type": "code",
   "execution_count": 25,
   "id": "26541274",
   "metadata": {},
   "outputs": [],
   "source": [
    "x=df.iloc[:,:-1].values\n",
    "y=df.iloc[:,-1].values\n",
    "label_mapping={2:0,4:1}\n",
    "y_label=[label_mapping[i] for i in y]\n",
    "y=np.array(y_label)"
   ]
  },
  {
   "cell_type": "code",
   "execution_count": 26,
   "id": "25f77f64",
   "metadata": {},
   "outputs": [],
   "source": [
    "from sklearn.preprocessing import StandardScaler\n",
    "X_train, X_test, y_train, y_test = train_test_split(x, y, test_size=0.3, random_state=42)\n",
    "scaler = StandardScaler()\n",
    "X_train = scaler.fit_transform(X_train)\n",
    "X_test = scaler.transform(X_test)"
   ]
  },
  {
   "cell_type": "code",
   "execution_count": 27,
   "id": "fd54ed8f",
   "metadata": {},
   "outputs": [
    {
     "data": {
      "text/plain": [
       "SVC(gamma='auto', kernel='linear', random_state=42)"
      ]
     },
     "execution_count": 27,
     "metadata": {},
     "output_type": "execute_result"
    }
   ],
   "source": [
    "svm_model=SVC(kernel='linear',gamma='auto',random_state=42)\n",
    "svm_model.fit(X_train,y_train)"
   ]
  },
  {
   "cell_type": "code",
   "execution_count": 28,
   "id": "8659150f",
   "metadata": {},
   "outputs": [],
   "source": [
    "X_train_svm=svm_model.predict(X_train)\n",
    "X_test_svm=svm_model.predict(X_test)\n",
    "X_train_combined=np.hstack((X_train,X_train_svm.reshape(-1,1)))\n",
    "X_test_combined=np.hstack((X_test,X_test_svm.reshape(-1,1)))\n"
   ]
  },
  {
   "cell_type": "code",
   "execution_count": 29,
   "id": "5cf5d76d",
   "metadata": {},
   "outputs": [
    {
     "name": "stdout",
     "output_type": "stream",
     "text": [
      "WARNING:tensorflow:From C:\\Users\\SRI SHIKA.L\\anaconda3\\lib\\site-packages\\keras\\src\\backend.py:873: The name tf.get_default_graph is deprecated. Please use tf.compat.v1.get_default_graph instead.\n",
      "\n",
      "Epoch 1/50\n",
      "WARNING:tensorflow:From C:\\Users\\SRI SHIKA.L\\anaconda3\\lib\\site-packages\\keras\\src\\utils\\tf_utils.py:492: The name tf.ragged.RaggedTensorValue is deprecated. Please use tf.compat.v1.ragged.RaggedTensorValue instead.\n",
      "\n",
      "WARNING:tensorflow:From C:\\Users\\SRI SHIKA.L\\anaconda3\\lib\\site-packages\\keras\\src\\engine\\base_layer_utils.py:384: The name tf.executing_eagerly_outside_functions is deprecated. Please use tf.compat.v1.executing_eagerly_outside_functions instead.\n",
      "\n",
      "40/40 [==============================] - 2s 15ms/step - loss: 0.5854 - accuracy: 0.7289 - val_loss: 0.4537 - val_accuracy: 0.9388\n",
      "Epoch 2/50\n",
      "40/40 [==============================] - 0s 6ms/step - loss: 0.3558 - accuracy: 0.9616 - val_loss: 0.2932 - val_accuracy: 0.9388\n",
      "Epoch 3/50\n",
      "40/40 [==============================] - 0s 5ms/step - loss: 0.2223 - accuracy: 0.9616 - val_loss: 0.2094 - val_accuracy: 0.9388\n",
      "Epoch 4/50\n",
      "40/40 [==============================] - 0s 5ms/step - loss: 0.1535 - accuracy: 0.9642 - val_loss: 0.1702 - val_accuracy: 0.9388\n",
      "Epoch 5/50\n",
      "40/40 [==============================] - 0s 6ms/step - loss: 0.1196 - accuracy: 0.9693 - val_loss: 0.1534 - val_accuracy: 0.9388\n",
      "Epoch 6/50\n",
      "40/40 [==============================] - 0s 5ms/step - loss: 0.1030 - accuracy: 0.9693 - val_loss: 0.1459 - val_accuracy: 0.9388\n",
      "Epoch 7/50\n",
      "40/40 [==============================] - 0s 5ms/step - loss: 0.0941 - accuracy: 0.9693 - val_loss: 0.1424 - val_accuracy: 0.9388\n",
      "Epoch 8/50\n",
      "40/40 [==============================] - 0s 5ms/step - loss: 0.0886 - accuracy: 0.9693 - val_loss: 0.1389 - val_accuracy: 0.9388\n",
      "Epoch 9/50\n",
      "40/40 [==============================] - 0s 5ms/step - loss: 0.0848 - accuracy: 0.9693 - val_loss: 0.1367 - val_accuracy: 0.9388\n",
      "Epoch 10/50\n",
      "40/40 [==============================] - 0s 6ms/step - loss: 0.0822 - accuracy: 0.9744 - val_loss: 0.1346 - val_accuracy: 0.9388\n",
      "Epoch 11/50\n",
      "40/40 [==============================] - 0s 5ms/step - loss: 0.0802 - accuracy: 0.9744 - val_loss: 0.1332 - val_accuracy: 0.9388\n",
      "Epoch 12/50\n",
      "40/40 [==============================] - 0s 5ms/step - loss: 0.0784 - accuracy: 0.9744 - val_loss: 0.1301 - val_accuracy: 0.9388\n",
      "Epoch 13/50\n",
      "40/40 [==============================] - 0s 5ms/step - loss: 0.0774 - accuracy: 0.9770 - val_loss: 0.1298 - val_accuracy: 0.9490\n",
      "Epoch 14/50\n",
      "40/40 [==============================] - 0s 5ms/step - loss: 0.0763 - accuracy: 0.9770 - val_loss: 0.1282 - val_accuracy: 0.9490\n",
      "Epoch 15/50\n",
      "40/40 [==============================] - 0s 5ms/step - loss: 0.0753 - accuracy: 0.9770 - val_loss: 0.1288 - val_accuracy: 0.9592\n",
      "Epoch 16/50\n",
      "40/40 [==============================] - 0s 5ms/step - loss: 0.0745 - accuracy: 0.9770 - val_loss: 0.1279 - val_accuracy: 0.9592\n",
      "Epoch 17/50\n",
      "40/40 [==============================] - 0s 5ms/step - loss: 0.0736 - accuracy: 0.9770 - val_loss: 0.1267 - val_accuracy: 0.9592\n",
      "Epoch 18/50\n",
      "40/40 [==============================] - 0s 6ms/step - loss: 0.0733 - accuracy: 0.9770 - val_loss: 0.1264 - val_accuracy: 0.9592\n",
      "Epoch 19/50\n",
      "40/40 [==============================] - 0s 6ms/step - loss: 0.0721 - accuracy: 0.9770 - val_loss: 0.1249 - val_accuracy: 0.9592\n",
      "Epoch 20/50\n",
      "40/40 [==============================] - 0s 5ms/step - loss: 0.0713 - accuracy: 0.9770 - val_loss: 0.1245 - val_accuracy: 0.9592\n",
      "Epoch 21/50\n",
      "40/40 [==============================] - 0s 5ms/step - loss: 0.0711 - accuracy: 0.9770 - val_loss: 0.1226 - val_accuracy: 0.9592\n",
      "Epoch 22/50\n",
      "40/40 [==============================] - 0s 5ms/step - loss: 0.0704 - accuracy: 0.9770 - val_loss: 0.1234 - val_accuracy: 0.9592\n",
      "Epoch 23/50\n",
      "40/40 [==============================] - 0s 5ms/step - loss: 0.0698 - accuracy: 0.9770 - val_loss: 0.1219 - val_accuracy: 0.9592\n",
      "Epoch 24/50\n",
      "40/40 [==============================] - 0s 6ms/step - loss: 0.0684 - accuracy: 0.9770 - val_loss: 0.1224 - val_accuracy: 0.9592\n",
      "Epoch 25/50\n",
      "40/40 [==============================] - 0s 6ms/step - loss: 0.0679 - accuracy: 0.9770 - val_loss: 0.1233 - val_accuracy: 0.9592\n",
      "Epoch 26/50\n",
      "40/40 [==============================] - 0s 5ms/step - loss: 0.0674 - accuracy: 0.9770 - val_loss: 0.1215 - val_accuracy: 0.9592\n",
      "Epoch 27/50\n",
      "40/40 [==============================] - 0s 6ms/step - loss: 0.0666 - accuracy: 0.9770 - val_loss: 0.1228 - val_accuracy: 0.9592\n",
      "Epoch 28/50\n",
      "40/40 [==============================] - 0s 6ms/step - loss: 0.0659 - accuracy: 0.9770 - val_loss: 0.1227 - val_accuracy: 0.9592\n",
      "Epoch 29/50\n",
      "40/40 [==============================] - 0s 6ms/step - loss: 0.0654 - accuracy: 0.9770 - val_loss: 0.1219 - val_accuracy: 0.9592\n",
      "Epoch 30/50\n",
      "40/40 [==============================] - 0s 6ms/step - loss: 0.0648 - accuracy: 0.9770 - val_loss: 0.1220 - val_accuracy: 0.9592\n",
      "Epoch 31/50\n",
      "40/40 [==============================] - 0s 6ms/step - loss: 0.0638 - accuracy: 0.9770 - val_loss: 0.1220 - val_accuracy: 0.9592\n",
      "Epoch 32/50\n",
      "40/40 [==============================] - 0s 6ms/step - loss: 0.0632 - accuracy: 0.9770 - val_loss: 0.1239 - val_accuracy: 0.9592\n",
      "Epoch 33/50\n",
      "40/40 [==============================] - 0s 5ms/step - loss: 0.0626 - accuracy: 0.9770 - val_loss: 0.1225 - val_accuracy: 0.9592\n",
      "Epoch 34/50\n",
      "40/40 [==============================] - 0s 6ms/step - loss: 0.0620 - accuracy: 0.9770 - val_loss: 0.1232 - val_accuracy: 0.9592\n",
      "Epoch 35/50\n",
      "40/40 [==============================] - 0s 6ms/step - loss: 0.0615 - accuracy: 0.9770 - val_loss: 0.1225 - val_accuracy: 0.9592\n",
      "Epoch 36/50\n",
      "40/40 [==============================] - 0s 6ms/step - loss: 0.0612 - accuracy: 0.9770 - val_loss: 0.1215 - val_accuracy: 0.9592\n",
      "Epoch 37/50\n",
      "40/40 [==============================] - 0s 6ms/step - loss: 0.0601 - accuracy: 0.9770 - val_loss: 0.1200 - val_accuracy: 0.9592\n",
      "Epoch 38/50\n",
      "40/40 [==============================] - 0s 5ms/step - loss: 0.0598 - accuracy: 0.9770 - val_loss: 0.1219 - val_accuracy: 0.9592\n",
      "Epoch 39/50\n",
      "40/40 [==============================] - 0s 4ms/step - loss: 0.0595 - accuracy: 0.9770 - val_loss: 0.1223 - val_accuracy: 0.9592\n",
      "Epoch 40/50\n",
      "40/40 [==============================] - 0s 5ms/step - loss: 0.0586 - accuracy: 0.9770 - val_loss: 0.1238 - val_accuracy: 0.9592\n",
      "Epoch 41/50\n",
      "40/40 [==============================] - 0s 6ms/step - loss: 0.0583 - accuracy: 0.9770 - val_loss: 0.1225 - val_accuracy: 0.9592\n",
      "Epoch 42/50\n",
      "40/40 [==============================] - 0s 6ms/step - loss: 0.0576 - accuracy: 0.9770 - val_loss: 0.1242 - val_accuracy: 0.9592\n",
      "Epoch 43/50\n",
      "40/40 [==============================] - 0s 7ms/step - loss: 0.0574 - accuracy: 0.9770 - val_loss: 0.1243 - val_accuracy: 0.9592\n",
      "Epoch 44/50\n",
      "40/40 [==============================] - 0s 6ms/step - loss: 0.0564 - accuracy: 0.9770 - val_loss: 0.1236 - val_accuracy: 0.9592\n",
      "Epoch 45/50\n",
      "40/40 [==============================] - 0s 6ms/step - loss: 0.0559 - accuracy: 0.9770 - val_loss: 0.1247 - val_accuracy: 0.9592\n",
      "Epoch 46/50\n",
      "40/40 [==============================] - 0s 6ms/step - loss: 0.0554 - accuracy: 0.9795 - val_loss: 0.1261 - val_accuracy: 0.9592\n",
      "Epoch 47/50\n",
      "40/40 [==============================] - 0s 6ms/step - loss: 0.0550 - accuracy: 0.9795 - val_loss: 0.1249 - val_accuracy: 0.9592\n",
      "Epoch 48/50\n",
      "40/40 [==============================] - 0s 6ms/step - loss: 0.0544 - accuracy: 0.9795 - val_loss: 0.1244 - val_accuracy: 0.9592\n",
      "Epoch 49/50\n",
      "40/40 [==============================] - 0s 6ms/step - loss: 0.0542 - accuracy: 0.9821 - val_loss: 0.1266 - val_accuracy: 0.9592\n",
      "Epoch 50/50\n",
      "40/40 [==============================] - 0s 6ms/step - loss: 0.0532 - accuracy: 0.9821 - val_loss: 0.1253 - val_accuracy: 0.9592\n"
     ]
    }
   ],
   "source": [
    "ann_model = Sequential([\n",
    "    Dense(16, input_shape=(X_train_combined.shape[1],), activation='relu'),\n",
    "    Dense(8, activation='relu'),\n",
    "    Dense(1, activation='sigmoid')\n",
    "])\n",
    "\n",
    "# Compile the model\n",
    "ann_model.compile(optimizer=Adam(learning_rate=0.001), loss='binary_crossentropy', metrics=['accuracy'])\n",
    "\n",
    "# Train the model\n",
    "history = ann_model.fit(X_train_combined, y_train, epochs=50, batch_size=10, validation_split=0.2, verbose=1)\n",
    "\n"
   ]
  },
  {
   "cell_type": "code",
   "execution_count": 30,
   "id": "af17a52c",
   "metadata": {},
   "outputs": [
    {
     "name": "stdout",
     "output_type": "stream",
     "text": [
      "7/7 [==============================] - 0s 4ms/step\n",
      "              precision    recall  f1-score   support\n",
      "\n",
      "           0       0.98      0.97      0.98       143\n",
      "           1       0.94      0.96      0.95        67\n",
      "\n",
      "    accuracy                           0.97       210\n",
      "   macro avg       0.96      0.96      0.96       210\n",
      "weighted avg       0.97      0.97      0.97       210\n",
      "\n"
     ]
    }
   ],
   "source": [
    "loss, accuracy = ann_model.evaluate(X_test_combined, y_test, verbose=0)\n",
    "y_pred_proba = ann_model.predict(X_test_combined)\n",
    "y_pred = (y_pred_proba > 0.5).astype(int)\n",
    "from sklearn.metrics import classification_report\n",
    "cr=classification_report(y_test,y_pred)\n",
    "print(cr)"
   ]
  },
  {
   "cell_type": "code",
   "execution_count": 31,
   "id": "0a9b8d47",
   "metadata": {},
   "outputs": [
    {
     "data": {
      "text/plain": [
       "<AxesSubplot:>"
      ]
     },
     "execution_count": 31,
     "metadata": {},
     "output_type": "execute_result"
    },
    {
     "data": {
      "image/png": "[encoded data removed]",
      "text/plain": [
       "<Figure size 432x288 with 2 Axes>"
      ]
     },
     "metadata": {
      "needs_background": "light"
     },
     "output_type": "display_data"
    }
   ],
   "source": [
    "from sklearn.metrics import confusion_matrix\n",
    "cm=confusion_matrix(y_test,y_pred)\n",
    "import seaborn as sns\n",
    "sns.heatmap(cm,annot=True,fmt=\"\",cmap='YlGnBu',linewidths=0.90)"
   ]
  },
  {
   "cell_type": "code",
   "execution_count": null,
   "id": "3d4bfb0e",
   "metadata": {},
   "outputs": [],
   "source": []
  }
 ],
 "metadata": {
  "kernelspec": {
   "display_name": "Python 3 (ipykernel)",
   "language": "python",
   "name": "python3"
  },
  "language_info": {
   "codemirror_mode": {
    "name": "ipython",
    "version": 3
   },
   "file_extension": ".py",
   "mimetype": "text/x-python",
   "name": "python",
   "nbconvert_exporter": "python",
   "pygments_lexer": "ipython3",
   "version": "3.12.4"
  }
 },
 "nbformat": 4,
 "nbformat_minor": 5
}
